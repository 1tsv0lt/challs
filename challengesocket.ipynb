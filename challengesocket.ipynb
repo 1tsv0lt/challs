{
 "cells": [
  {
   "cell_type": "code",
   "execution_count": null,
   "id": "61354e37-e43f-4eae-b461-baab95f38028",
   "metadata": {
    "collapsed": true,
    "jupyter": {
     "outputs_hidden": true
    }
   },
   "outputs": [],
   "source": [
    "def encrypt(pt, X, Y, Z):\n",
    "    A = [chr(i) for i in range(33, 127)]\n",
    "    length = Y * Z\n",
    "\n",
    "    x = [A.index(c) for c in pt]\n",
    "    t = matrix(ZZ, X, Y, lambda i, j: randint(0, len(A) - 1))\n",
    "    ct = []\n",
    "\n",
    "    for i in range(0, len(x), length):\n",
    "        chunk = x[i:i + length] + [0] * (length - len(x[i:i + length]))\n",
    "        reshaped_chunk = matrix(ZZ, Y, Z, chunk)\n",
    "        encrypted_chunk = (t * reshaped_chunk).list()\n",
    "        encrypted_chunk = [index % len(A) for index in encrypted_chunk]  # Apply modulo here\n",
    "        ct.extend(A[int(index)] for index in encrypted_chunk)\n",
    "\n",
    "    return ''.join(ct)\n",
    "\n",
    "X = 13\n"
    "Y = 15\n"
    "Z = 17\n"
    "pt = \"flagisbigdontworry\"\n",
    "print(f\"ciphertext:{encrypt(pt, X, Y, Z)}\")\n",
    "\n",
    "trial1 = input(\"pt:\")\n",
    "print(f\"result: {encrypt(trial1, X, Y, Z)}\")\n",
    "trial2 = input(\"pt:\")\n",
    "print(f\"result: {encrypt(trial2, X, Y, Z)}\")"
   ]
  },
  {
   "cell_type": "code",
   "execution_count": null,
   "id": "60cf2f04-5957-4fbc-bc95-2065509eb088",
   "metadata": {},
   "outputs": [],
   "source": []
  }
 ],
 "metadata": {
  "kernelspec": {
   "display_name": "SageMath 10.4",
   "language": "sage",
   "name": "sagemath"
  },
  "language_info": {
   "codemirror_mode": {
    "name": "ipython",
    "version": 3
   },
   "file_extension": ".py",
   "mimetype": "text/x-python",
   "name": "python",
   "nbconvert_exporter": "python",
   "pygments_lexer": "ipython3",
   "version": "3.11.10"
  }
 },
 "nbformat": 4,
 "nbformat_minor": 5
}
